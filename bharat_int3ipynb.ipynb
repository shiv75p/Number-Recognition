{
  "nbformat": 4,
  "nbformat_minor": 0,
  "metadata": {
    "colab": {
      "provenance": [],
      "toc_visible": true
    },
    "kernelspec": {
      "name": "python3",
      "display_name": "Python 3"
    },
    "language_info": {
      "name": "python"
    }
  },
  "cells": [
    {
      "cell_type": "markdown",
      "source": [
        "---------SHIVCHAND PATEL-------------- \n",
        "(\"BHARAT INTERN\"-DATA SCIENCE )\n",
        "Number Recognition :\n",
        "Handwritten digit recognition system not only detects\n",
        "scanned images of handwritten digits.Handwritten digit\n",
        "recognition using MNIST dataset is a major project made\n",
        "with the help of Neural Network. It basically detects\n",
        "the scanned images of handwritten digits."
      ],
      "metadata": {
        "id": "1NL4rOAbKQlj"
      }
    },
    {
      "cell_type": "code",
      "execution_count": null,
      "metadata": {
        "id": "h3-PufxWElq5"
      },
      "outputs": [],
      "source": [
        "import keras\n",
        "from keras.datasets import mnist\n",
        "from keras.models import Sequential\n",
        "from keras.layers import Dense, Dropout, Flatten\n",
        "from keras.layers import Conv2D, MaxPooling2D \n",
        "import numpy as np\n",
        "import pandas as pd"
      ]
    },
    {
      "cell_type": "markdown",
      "source": [],
      "metadata": {
        "id": "LILT-kUhKN32"
      }
    },
    {
      "cell_type": "code",
      "source": [
        "# Load the MNIST dataset\n",
        "(x_train, y_train), (x_test, y_test) = mnist.load_data()\n"
      ],
      "metadata": {
        "colab": {
          "base_uri": "https://localhost:8080/"
        },
        "id": "6eQ-Q1f6GRlD",
        "outputId": "0d7b9a63-dadb-4280-8b6c-be4a396c78a6"
      },
      "execution_count": null,
      "outputs": [
        {
          "output_type": "stream",
          "name": "stdout",
          "text": [
            "Downloading data from https://storage.googleapis.com/tensorflow/tf-keras-datasets/mnist.npz\n",
            "11490434/11490434 [==============================] - 0s 0us/step\n"
          ]
        }
      ]
    },
    {
      "cell_type": "code",
      "source": [
        "# Prepare the data\n",
        "x_train = x_train.astype('float32') / 255.0\n",
        "x_test = x_test.astype('float32') / 255.0\n",
        "x_train = x_train.reshape(x_train.shape[0], 28, 28, 1)\n",
        "x_test = x_test.reshape(x_test.shape[0], 28, 28, 1)\n",
        "input_shape = (28, 28, 1)\n",
        "num_classes = 10\n",
        "y_train = keras.utils.to_categorical(y_train, num_classes)\n",
        "y_test = keras.utils.to_categorical(y_test, num_classes)"
      ],
      "metadata": {
        "id": "RGixq2dOGRoG"
      },
      "execution_count": null,
      "outputs": []
    },
    {
      "cell_type": "code",
      "source": [
        "# Build the neural network\n",
        "model = Sequential()\n",
        "model.add(Conv2D(32, kernel_size=(3, 3),\n",
        "                 activation='relu',\n",
        "                 input_shape=input_shape))\n",
        "model.add(Conv2D(64, (3, 3), activation='relu'))\n",
        "model.add(MaxPooling2D(pool_size=(2, 2)))\n",
        "model.add(Dropout(0.25))\n",
        "model.add(Flatten())\n",
        "model.add(Dense(128, activation='relu'))\n",
        "model.add(Dropout(0.5))\n",
        "model.add(Dense(num_classes, activation='softmax'))\n"
      ],
      "metadata": {
        "id": "bdWskn0eGRrU"
      },
      "execution_count": null,
      "outputs": []
    },
    {
      "cell_type": "code",
      "source": [
        "# Compile the model\n",
        "model.compile(loss=keras.losses.categorical_crossentropy,\n",
        "              optimizer=keras.optimizers.Adadelta(),\n",
        "              metrics=['accuracy'])\n"
      ],
      "metadata": {
        "id": "rtlDK4DiGRvY"
      },
      "execution_count": null,
      "outputs": []
    },
    {
      "cell_type": "code",
      "source": [
        "# Train the model\n",
        "model.fit(x_train, y_train,\n",
        "          batch_size=128,\n",
        "          epochs=12,\n",
        "          verbose=1,\n",
        "          validation_data=(x_test, y_test))\n"
      ],
      "metadata": {
        "colab": {
          "base_uri": "https://localhost:8080/"
        },
        "id": "gwivBa6iGRy0",
        "outputId": "5b26fbe5-85f9-45cd-8449-83ef03742b5c"
      },
      "execution_count": null,
      "outputs": [
        {
          "output_type": "stream",
          "name": "stdout",
          "text": [
            "Epoch 1/12\n",
            "469/469 [==============================] - 185s 391ms/step - loss: 2.2925 - accuracy: 0.1445 - val_loss: 2.2620 - val_accuracy: 0.3251\n",
            "Epoch 2/12\n",
            "469/469 [==============================] - 176s 375ms/step - loss: 2.2437 - accuracy: 0.2538 - val_loss: 2.2033 - val_accuracy: 0.4694\n",
            "Epoch 3/12\n",
            "469/469 [==============================] - 176s 374ms/step - loss: 2.1827 - accuracy: 0.3433 - val_loss: 2.1257 - val_accuracy: 0.5682\n",
            "Epoch 4/12\n",
            "469/469 [==============================] - 179s 381ms/step - loss: 2.1011 - accuracy: 0.4158 - val_loss: 2.0224 - val_accuracy: 0.6402\n",
            "Epoch 5/12\n",
            "469/469 [==============================] - 175s 372ms/step - loss: 1.9949 - accuracy: 0.4773 - val_loss: 1.8878 - val_accuracy: 0.6895\n",
            "Epoch 6/12\n",
            "469/469 [==============================] - 184s 393ms/step - loss: 1.8598 - accuracy: 0.5251 - val_loss: 1.7177 - val_accuracy: 0.7223\n",
            "Epoch 7/12\n",
            "469/469 [==============================] - 191s 408ms/step - loss: 1.7018 - accuracy: 0.5653 - val_loss: 1.5241 - val_accuracy: 0.7519\n",
            "Epoch 8/12\n",
            "469/469 [==============================] - 180s 382ms/step - loss: 1.5333 - accuracy: 0.6008 - val_loss: 1.3274 - val_accuracy: 0.7764\n",
            "Epoch 9/12\n",
            "469/469 [==============================] - 182s 388ms/step - loss: 1.3736 - accuracy: 0.6310 - val_loss: 1.1489 - val_accuracy: 0.7966\n",
            "Epoch 10/12\n",
            "469/469 [==============================] - 181s 386ms/step - loss: 1.2359 - accuracy: 0.6587 - val_loss: 0.9999 - val_accuracy: 0.8135\n",
            "Epoch 11/12\n",
            "469/469 [==============================] - 181s 386ms/step - loss: 1.1263 - accuracy: 0.6789 - val_loss: 0.8827 - val_accuracy: 0.8243\n",
            "Epoch 12/12\n",
            "469/469 [==============================] - 178s 380ms/step - loss: 1.0365 - accuracy: 0.6973 - val_loss: 0.7918 - val_accuracy: 0.8359\n"
          ]
        },
        {
          "output_type": "execute_result",
          "data": {
            "text/plain": [
              "<keras.callbacks.History at 0x7f86ef453a60>"
            ]
          },
          "metadata": {},
          "execution_count": 6
        }
      ]
    },
    {
      "cell_type": "code",
      "source": [
        "# Evaluate the performance of the model\n",
        "score = model.evaluate(x_test, y_test, verbose=0)\n",
        "print('Test loss:', score[0])\n",
        "print('Test accuracy:', score[1])\n"
      ],
      "metadata": {
        "colab": {
          "base_uri": "https://localhost:8080/"
        },
        "id": "joa1L6pWGnO_",
        "outputId": "8f1f68df-044b-4747-9b83-66b35115b25a"
      },
      "execution_count": null,
      "outputs": [
        {
          "output_type": "stream",
          "name": "stdout",
          "text": [
            "Test loss: 0.7917597889900208\n",
            "Test accuracy: 0.8359000086784363\n"
          ]
        }
      ]
    },
    {
      "cell_type": "code",
      "source": [
        "# Use the model to make predictions on new images\n",
        "predictions = model.predict(x_test)"
      ],
      "metadata": {
        "colab": {
          "base_uri": "https://localhost:8080/"
        },
        "id": "SsGFfeYwGq3w",
        "outputId": "0a4ac539-9970-4931-e5e6-e492b909dd02"
      },
      "execution_count": null,
      "outputs": [
        {
          "output_type": "stream",
          "name": "stdout",
          "text": [
            "313/313 [==============================] - 8s 25ms/step\n"
          ]
        }
      ]
    },
    {
      "cell_type": "code",
      "source": [
        "predictions"
      ],
      "metadata": {
        "colab": {
          "base_uri": "https://localhost:8080/"
        },
        "id": "Byttv3oqGwRN",
        "outputId": "2c0949a8-3676-4281-f1ff-6d93ded69f6f"
      },
      "execution_count": null,
      "outputs": [
        {
          "output_type": "execute_result",
          "data": {
            "text/plain": [
              "array([[2.28723474e-02, 1.64010152e-02, 2.16078609e-02, ...,\n",
              "        7.55939543e-01, 4.30233851e-02, 5.95044158e-02],\n",
              "       [1.64321903e-02, 1.56187071e-02, 5.12260556e-01, ...,\n",
              "        1.27681112e-03, 5.73152117e-02, 3.44240805e-03],\n",
              "       [1.15145305e-02, 6.90623522e-01, 4.48612683e-02, ...,\n",
              "        3.69387306e-02, 7.37863109e-02, 2.15129964e-02],\n",
              "       ...,\n",
              "       [7.92263541e-03, 5.01638278e-02, 2.61838045e-02, ...,\n",
              "        1.42721727e-01, 1.40946046e-01, 2.32885391e-01],\n",
              "       [6.87667504e-02, 8.81977826e-02, 3.53539996e-02, ...,\n",
              "        6.87417462e-02, 2.50290215e-01, 7.00847879e-02],\n",
              "       [2.42600329e-02, 1.28881438e-04, 1.97172277e-02, ...,\n",
              "        1.60309006e-04, 7.61857023e-04, 9.23618500e-04]], dtype=float32)"
            ]
          },
          "metadata": {},
          "execution_count": 13
        }
      ]
    },
    {
      "cell_type": "code",
      "source": [],
      "metadata": {
        "id": "4zWFU0OxWZZB"
      },
      "execution_count": null,
      "outputs": []
    }
  ]
}